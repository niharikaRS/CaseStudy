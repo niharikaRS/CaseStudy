{
 "cells": [
  {
   "cell_type": "code",
   "execution_count": 6,
   "metadata": {},
   "outputs": [],
   "source": [
    "import pandas as pd\n",
    "import numpy as np\n",
    "import seaborn as sb\n",
    "import matplotlib.pyplot as plt"
   ]
  },
  {
   "cell_type": "code",
   "execution_count": 7,
   "metadata": {},
   "outputs": [
    {
     "data": {
      "text/html": [
       "<div>\n",
       "<style scoped>\n",
       "    .dataframe tbody tr th:only-of-type {\n",
       "        vertical-align: middle;\n",
       "    }\n",
       "\n",
       "    .dataframe tbody tr th {\n",
       "        vertical-align: top;\n",
       "    }\n",
       "\n",
       "    .dataframe thead th {\n",
       "        text-align: right;\n",
       "    }\n",
       "</style>\n",
       "<table border=\"1\" class=\"dataframe\">\n",
       "  <thead>\n",
       "    <tr style=\"text-align: right;\">\n",
       "      <th></th>\n",
       "      <th>customer_email</th>\n",
       "      <th>net_revenue</th>\n",
       "      <th>year</th>\n",
       "    </tr>\n",
       "  </thead>\n",
       "  <tbody>\n",
       "    <tr>\n",
       "      <th>0</th>\n",
       "      <td>nhknapwsbx@gmail.com</td>\n",
       "      <td>249.92</td>\n",
       "      <td>2015</td>\n",
       "    </tr>\n",
       "    <tr>\n",
       "      <th>1</th>\n",
       "      <td>joiuzbvcpn@gmail.com</td>\n",
       "      <td>87.61</td>\n",
       "      <td>2015</td>\n",
       "    </tr>\n",
       "    <tr>\n",
       "      <th>2</th>\n",
       "      <td>ukkjctepxt@gmail.com</td>\n",
       "      <td>168.38</td>\n",
       "      <td>2015</td>\n",
       "    </tr>\n",
       "    <tr>\n",
       "      <th>3</th>\n",
       "      <td>gykatilzrt@gmail.com</td>\n",
       "      <td>62.40</td>\n",
       "      <td>2015</td>\n",
       "    </tr>\n",
       "    <tr>\n",
       "      <th>4</th>\n",
       "      <td>mmsgsrtxah@gmail.com</td>\n",
       "      <td>43.08</td>\n",
       "      <td>2015</td>\n",
       "    </tr>\n",
       "  </tbody>\n",
       "</table>\n",
       "</div>"
      ],
      "text/plain": [
       "          customer_email  net_revenue  year\n",
       "0   nhknapwsbx@gmail.com       249.92  2015\n",
       "1   joiuzbvcpn@gmail.com        87.61  2015\n",
       "2   ukkjctepxt@gmail.com       168.38  2015\n",
       "3   gykatilzrt@gmail.com        62.40  2015\n",
       "4   mmsgsrtxah@gmail.com        43.08  2015"
      ]
     },
     "execution_count": 7,
     "metadata": {},
     "output_type": "execute_result"
    }
   ],
   "source": [
    "FILE_PATH = \"C:/Users/Niharika/Documents/caseStudy/\"\n",
    "\n",
    "df_case = pd.read_csv(FILE_PATH+\"casestudy.csv\",index_col=\"Unnamed: 0\")\n",
    "df_case.head(5)"
   ]
  },
  {
   "cell_type": "code",
   "execution_count": 8,
   "metadata": {},
   "outputs": [
    {
     "data": {
      "text/html": [
       "<div>\n",
       "<style scoped>\n",
       "    .dataframe tbody tr th:only-of-type {\n",
       "        vertical-align: middle;\n",
       "    }\n",
       "\n",
       "    .dataframe tbody tr th {\n",
       "        vertical-align: top;\n",
       "    }\n",
       "\n",
       "    .dataframe thead th {\n",
       "        text-align: right;\n",
       "    }\n",
       "</style>\n",
       "<table border=\"1\" class=\"dataframe\">\n",
       "  <thead>\n",
       "    <tr style=\"text-align: right;\">\n",
       "      <th></th>\n",
       "      <th>net_revenue</th>\n",
       "    </tr>\n",
       "    <tr>\n",
       "      <th>year</th>\n",
       "      <th></th>\n",
       "    </tr>\n",
       "  </thead>\n",
       "  <tbody>\n",
       "    <tr>\n",
       "      <th>2015</th>\n",
       "      <td>29036749.19</td>\n",
       "    </tr>\n",
       "    <tr>\n",
       "      <th>2016</th>\n",
       "      <td>25730943.59</td>\n",
       "    </tr>\n",
       "    <tr>\n",
       "      <th>2017</th>\n",
       "      <td>31417495.03</td>\n",
       "    </tr>\n",
       "  </tbody>\n",
       "</table>\n",
       "</div>"
      ],
      "text/plain": [
       "      net_revenue\n",
       "year             \n",
       "2015  29036749.19\n",
       "2016  25730943.59\n",
       "2017  31417495.03"
      ]
     },
     "execution_count": 8,
     "metadata": {},
     "output_type": "execute_result"
    }
   ],
   "source": [
    "#Total revenue for current year\n",
    "total_revenue = df_case[\"net_revenue\"].sum()\n",
    "tot_revenue_year = df_case.groupby(\"year\").sum()\n",
    "tot_revenue_year"
   ]
  },
  {
   "cell_type": "code",
   "execution_count": 9,
   "metadata": {},
   "outputs": [
    {
     "name": "stdout",
     "output_type": "stream",
     "text": [
      "Revenue for new customers in 2017: 28676607.64\n",
      "Revenue for new customers in 2016: 18245491.01\n",
      "Revenue for new customers in 2015: 29036749.189999994\n"
     ]
    }
   ],
   "source": [
    "cust = df_case[[\"customer_email\",\"year\"]]\n",
    "cust_1 = df_case.loc[df_case[\"year\"]==2015]\n",
    "cust_2 = df_case.loc[df_case[\"year\"]==2016]\n",
    "cust_3 = df_case.loc[df_case[\"year\"]==2017]\n",
    "\n",
    "#New Customer Revenue - 2017\n",
    "cust_new = cust_3.customer_email.isin(cust_2.customer_email) | cust_3.customer_email.isin(cust_1.customer_email)\n",
    "new_cust = cust_3[~cust_new]\n",
    "cust_rev1 = new_cust[\"net_revenue\"].sum()\n",
    "\n",
    "#New Customer Revenue - 2016\n",
    "cust_new = cust_2.customer_email.isin(cust_1.customer_email)\n",
    "new_cust = cust_2[~cust_new]\n",
    "cust_rev2 = new_cust[\"net_revenue\"].sum()\n",
    "\n",
    "#New Customer Revenue - 2015\n",
    "cust_rev3 = cust_1[\"net_revenue\"].sum()\n",
    "\n",
    "print(\"Revenue for new customers in 2017: \"+str(cust_rev1)+\"\\nRevenue for new customers in 2016: \"+str(cust_rev2)+\"\\nRevenue for new customers in 2015: \"+str(cust_rev3))"
   ]
  },
  {
   "cell_type": "code",
   "execution_count": 10,
   "metadata": {},
   "outputs": [
    {
     "name": "stdout",
     "output_type": "stream",
     "text": [
      "Existing Customer Growth - 2017: -4744565.19\n",
      "Existing Customer Growth - 2016: -21551296.609999992\n",
      "Existing Customer Growth - 2015: 29036749.189999994\n"
     ]
    }
   ],
   "source": [
    "#Existing Customer Growth - 2017\n",
    "cust_exist_current = cust_3.customer_email.isin(cust_2.customer_email) | cust_3.customer_email.isin(cust_1.customer_email)\n",
    "cust_exist_previous = cust_2.customer_email.isin(cust_1.customer_email)\n",
    "new_cust_current = cust_3[cust_exist_current]\n",
    "new_cust_prev = cust_2[cust_exist_previous]\n",
    "exist_cust_growth_2017 = new_cust_current[\"net_revenue\"].sum() - new_cust_prev[\"net_revenue\"].sum()\n",
    "exist_cust_growth_2016 = new_cust_prev[\"net_revenue\"].sum() - cust_1[\"net_revenue\"].sum()\n",
    "exist_cust_growth_2015 = cust_1[\"net_revenue\"].sum()\n",
    "\n",
    "print(\"Existing Customer Growth - 2017: \"+str(exist_cust_growth_2017)+\"\\nExisting Customer Growth - 2016: \"+str(exist_cust_growth_2016)+\"\\nExisting Customer Growth - 2015: \"+str(exist_cust_growth_2015))"
   ]
  },
  {
   "cell_type": "code",
   "execution_count": 11,
   "metadata": {},
   "outputs": [
    {
     "name": "stdout",
     "output_type": "stream",
     "text": [
      "Revenue lost from attrition 2015: 0.0\n",
      "Revenue lost from attrition 2016: -0.4617590171960199\n",
      "Revenue lost from attrition 2017: -0.3877832569522135\n"
     ]
    }
   ],
   "source": [
    "#Revenue lost from attrition - 2017\n",
    "#exist - new /total \n",
    "print(\"Revenue lost from attrition 2015: \" + str((exist_cust_growth_2015 - cust_rev3)/total_revenue))\n",
    "print(\"Revenue lost from attrition 2016: \" + str((exist_cust_growth_2016 - cust_rev2)/total_revenue))\n",
    "print(\"Revenue lost from attrition 2017: \" + str((exist_cust_growth_2017 - cust_rev1)/total_revenue))"
   ]
  },
  {
   "cell_type": "code",
   "execution_count": 12,
   "metadata": {},
   "outputs": [
    {
     "name": "stdout",
     "output_type": "stream",
     "text": [
      "Existing Customer Revenue Current Year: 2740887.3899999997\n"
     ]
    }
   ],
   "source": [
    "#Existing customer revenue current year\n",
    "cust_exist_current = cust_3.customer_email.isin(cust_2.customer_email) | cust_3.customer_email.isin(cust_1.customer_email)\n",
    "new_cust_current = cust_3[cust_exist_current]\n",
    "print(\"Existing Customer Revenue Current Year: \" + str(new_cust_current[\"net_revenue\"].sum()))"
   ]
  },
  {
   "cell_type": "code",
   "execution_count": 13,
   "metadata": {},
   "outputs": [
    {
     "name": "stdout",
     "output_type": "stream",
     "text": [
      "Existing Customer Revenue Prior Year: 7485452.58\n"
     ]
    }
   ],
   "source": [
    "#Existing Customer Revenue Prior Year\n",
    "cust_exist_prior = cust_2.customer_email.isin(cust_1.customer_email)\n",
    "new_cust_prior = cust_2[cust_exist_prior]\n",
    "print(\"Existing Customer Revenue Prior Year: \" + str(new_cust_prior[\"net_revenue\"].sum()))\n",
    "\n",
    "cust_exist_prior = new_cust_prior[\"customer_email\"].unique()\n",
    "cust_exist_current = new_cust_current[\"customer_email\"].unique()\n",
    "cust_exist = len(cust_exist_current)+len(cust_exist_prior)"
   ]
  },
  {
   "cell_type": "code",
   "execution_count": 14,
   "metadata": {},
   "outputs": [
    {
     "name": "stdout",
     "output_type": "stream",
     "text": [
      "Total customers current year: 249987\n"
     ]
    }
   ],
   "source": [
    "#Total Customers Current Year\n",
    "customers_current = cust_3[\"customer_email\"].unique()\n",
    "print(\"Total customers current year: \" + str(len(customers_current)))"
   ]
  },
  {
   "cell_type": "code",
   "execution_count": 15,
   "metadata": {},
   "outputs": [
    {
     "name": "stdout",
     "output_type": "stream",
     "text": [
      "Total customers current year: 204646\n"
     ]
    }
   ],
   "source": [
    "#Total Customers Previous Year\n",
    "customers_previous = cust_2[\"customer_email\"].unique()\n",
    "print(\"Total customers current year: \" + str(len(customers_previous)))"
   ]
  },
  {
   "cell_type": "code",
   "execution_count": 16,
   "metadata": {},
   "outputs": [
    {
     "name": "stdout",
     "output_type": "stream",
     "text": [
      "New Customers: 228262\n"
     ]
    }
   ],
   "source": [
    "#New Customers\n",
    "cust_exist_current = cust_3.customer_email.isin(cust_2.customer_email) | cust_3.customer_email.isin(cust_1.customer_email)\n",
    "new_cust_current1 = cust_3[~cust_exist_current]\n",
    "cust_exist_current = cust_2.customer_email.isin(cust_2.customer_email) \n",
    "new_cust_current2 = cust_2[~cust_exist_current]\n",
    "customers_new_1 = new_cust_current1[\"customer_email\"].unique()\n",
    "customers_new_2 = new_cust_current2[\"customer_email\"].unique()\n",
    "cust_new = len(customers_new_1)+len(customers_new_2)\n",
    "print(\"New Customers: \" + str(cust_new))"
   ]
  },
  {
   "cell_type": "code",
   "execution_count": 17,
   "metadata": {},
   "outputs": [
    {
     "name": "stdout",
     "output_type": "stream",
     "text": [
      "Lost Customers: 355397\n"
     ]
    }
   ],
   "source": [
    "#Lost Customers\n",
    "cust_exist_current = cust_2.customer_email.isin(cust_3.customer_email)\n",
    "lost_cust_current1 = cust_2[~cust_exist_current]\n",
    "cust_exist_current = cust_1.customer_email.isin(cust_2.customer_email) \n",
    "lost_cust_current2 = cust_1[~cust_exist_current]\n",
    "customers_lost = np.concatenate((lost_cust_current1,lost_cust_current2))\n",
    "customers_1 = [customer[0] for customer in customers_lost]\n",
    "cust_lost = len(set(customers_1))\n",
    "print(\"Lost Customers: \" + str(cust_lost))"
   ]
  },
  {
   "cell_type": "code",
   "execution_count": 22,
   "metadata": {},
   "outputs": [
    {
     "data": {
      "text/plain": [
       "([<matplotlib.patches.Wedge at 0x2042b9f3040>,\n",
       "  <matplotlib.patches.Wedge at 0x2042b9f3520>,\n",
       "  <matplotlib.patches.Wedge at 0x2042b9f39a0>],\n",
       " [Text(0.5672791363755616, 1.0574471057376804, 'new'),\n",
       "  Text(-0.9899688967335508, 0.678204676701773, 'returning'),\n",
       "  Text(-0.12964728138750958, -1.1929759353938487, 'lost')])"
      ]
     },
     "execution_count": 22,
     "metadata": {},
     "output_type": "execute_result"
    },
    {
     "data": {
      "image/png": "[encoded data removed]",
      "text/plain": [
       "<Figure size 1800x1080 with 1 Axes>"
      ]
     },
     "metadata": {},
     "output_type": "display_data"
    }
   ],
   "source": [
    "customers_labels = [\"new\",\"returning\",\"lost\"]\n",
    "customers = [cust_new,cust_exist,cust_lost]\n",
    "plt.pie(customers,labels = customers_labels, explode = [0.1,0.1,0.1])\n",
    "#From the below plot we can see that the company lost old customers in higher percentage. "
   ]
  },
  {
   "cell_type": "code",
   "execution_count": 21,
   "metadata": {},
   "outputs": [
    {
     "data": {
      "image/png": "[encoded data removed]",
      "text/plain": [
       "<Figure size 1440x720 with 1 Axes>"
      ]
     },
     "metadata": {},
     "output_type": "display_data"
    }
   ],
   "source": [
    "fig, ax = plt.subplots()\n",
    "ax.bar(tot_revenue_year.index, tot_revenue_year[\"net_revenue\"], 0.5)\n",
    "sb.set(rc = {'figure.figsize':(25,15)})\n",
    "ax.set_ylabel('Total Net Revenue')\n",
    "ax.set_title('Loan Grades for the employees')\n",
    "\n",
    "plt.show()\n",
    "#From the below plot, we can say that year 2017 made more net_revenue than other years\n",
    "#We also noticed that 2016 year generated relatively less net revenue"
   ]
  },
  {
   "cell_type": "code",
   "execution_count": null,
   "metadata": {},
   "outputs": [],
   "source": []
  }
 ],
 "metadata": {
  "kernelspec": {
   "display_name": "Python 3",
   "language": "python",
   "name": "python3"
  },
  "language_info": {
   "codemirror_mode": {
    "name": "ipython",
    "version": 3
   },
   "file_extension": ".py",
   "mimetype": "text/x-python",
   "name": "python",
   "nbconvert_exporter": "python",
   "pygments_lexer": "ipython3",
   "version": "3.8.5"
  }
 },
 "nbformat": 4,
 "nbformat_minor": 4
}
